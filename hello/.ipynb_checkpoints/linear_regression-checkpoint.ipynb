{
 "cells": [
  {
   "cell_type": "code",
   "execution_count": 1,
   "metadata": {},
   "outputs": [],
   "source": [
    "from __future__ import print_function\n",
    "\n",
    "import tensorflow as tf\n",
    "import numpy\n",
    "import matplotlib.pyplot as plt\n",
    "rng = numpy.random"
   ]
  },
  {
   "cell_type": "code",
   "execution_count": 13,
   "metadata": {},
   "outputs": [],
   "source": [
    "# Parameters\n",
    "learning_rate = 0.001\n",
    "training_epochs = 3000\n",
    "display_step = 50"
   ]
  },
  {
   "cell_type": "code",
   "execution_count": 14,
   "metadata": {},
   "outputs": [],
   "source": [
    "# Training Data\n",
    "train_X = numpy.asarray([3.3,4.4,5.5,6.71,6.93,4.168,9.779,6.182,7.59,2.167,\n",
    "                         7.042,10.791,5.313,7.997,5.654,9.27,3.1])\n",
    "train_Y = numpy.asarray([1.7,2.76,2.09,3.19,1.694,1.573,3.366,2.596,2.53,1.221,\n",
    "                         2.827,3.465,1.65,2.904,2.42,2.94,1.3])\n",
    "n_samples = train_X.shape[0]"
   ]
  },
  {
   "cell_type": "code",
   "execution_count": 15,
   "metadata": {},
   "outputs": [],
   "source": [
    "# tf Graph Input\n",
    "X = tf.placeholder(\"float\")\n",
    "Y = tf.placeholder(\"float\")"
   ]
  },
  {
   "cell_type": "code",
   "execution_count": 16,
   "metadata": {},
   "outputs": [],
   "source": [
    "# Set model weights\n",
    "W = tf.Variable(rng.randn(), name=\"weight\")\n",
    "b = tf.Variable(rng.randn(), name=\"bias\")"
   ]
  },
  {
   "cell_type": "code",
   "execution_count": 17,
   "metadata": {},
   "outputs": [],
   "source": [
    "# Construct a linear model\n",
    "pred = tf.add(tf.multiply(X, W), b)"
   ]
  },
  {
   "cell_type": "code",
   "execution_count": 18,
   "metadata": {},
   "outputs": [],
   "source": [
    "# Mean squared error\n",
    "cost = tf.reduce_sum(tf.pow(pred-Y, 2))/(2*n_samples)"
   ]
  },
  {
   "cell_type": "code",
   "execution_count": 19,
   "metadata": {},
   "outputs": [],
   "source": [
    "# Gradient descent\n",
    "#  Note, minimize() knows to modify W and b because Variable objects are trainable=True by default\n",
    "optimizer = tf.train.GradientDescentOptimizer(learning_rate).minimize(cost)"
   ]
  },
  {
   "cell_type": "code",
   "execution_count": 20,
   "metadata": {},
   "outputs": [],
   "source": [
    "# Initialize the variables (i.e. assign their default value)\n",
    "init = tf.global_variables_initializer()"
   ]
  },
  {
   "cell_type": "code",
   "execution_count": 21,
   "metadata": {},
   "outputs": [
    {
     "name": "stdout",
     "output_type": "stream",
     "text": [
      "Epoch: 0050 cost= 0.333516061 W= 0.532676 b= -1.23501\n",
      "Epoch: 0100 cost= 0.303886205 W= 0.51584 b= -1.11389\n",
      "Epoch: 0150 cost= 0.277677596 W= 0.500005 b= -0.999972\n",
      "Epoch: 0200 cost= 0.254495144 W= 0.485112 b= -0.892833\n",
      "Epoch: 0250 cost= 0.233989432 W= 0.471104 b= -0.792066\n",
      "Epoch: 0300 cost= 0.215851441 W= 0.45793 b= -0.697291\n",
      "Epoch: 0350 cost= 0.199807838 W= 0.445539 b= -0.608153\n",
      "Epoch: 0400 cost= 0.185617030 W= 0.433886 b= -0.524317\n",
      "Epoch: 0450 cost= 0.173064917 W= 0.422925 b= -0.445467\n",
      "Epoch: 0500 cost= 0.161962256 W= 0.412616 b= -0.371305\n",
      "Epoch: 0550 cost= 0.152141929 W= 0.40292 b= -0.301555\n",
      "Epoch: 0600 cost= 0.143455774 W= 0.393801 b= -0.235953\n",
      "Epoch: 0650 cost= 0.135772869 W= 0.385225 b= -0.174253\n",
      "Epoch: 0700 cost= 0.128977388 W= 0.377158 b= -0.116223\n",
      "Epoch: 0750 cost= 0.122966848 W= 0.369571 b= -0.0616433\n",
      "Epoch: 0800 cost= 0.117650650 W= 0.362435 b= -0.01031\n",
      "Epoch: 0850 cost= 0.112948559 W= 0.355724 b= 0.0379703\n",
      "Epoch: 0900 cost= 0.108789720 W= 0.349412 b= 0.083379\n",
      "Epoch: 0950 cost= 0.105111398 W= 0.343475 b= 0.126087\n",
      "Epoch: 1000 cost= 0.101858079 W= 0.337892 b= 0.166255\n",
      "Epoch: 1050 cost= 0.098980717 W= 0.33264 b= 0.204034\n",
      "Epoch: 1100 cost= 0.096435860 W= 0.327701 b= 0.239567\n",
      "Epoch: 1150 cost= 0.094185159 W= 0.323056 b= 0.272985\n",
      "Epoch: 1200 cost= 0.092194565 W= 0.318687 b= 0.304417\n",
      "Epoch: 1250 cost= 0.090434089 W= 0.314577 b= 0.333979\n",
      "Epoch: 1300 cost= 0.088877134 W= 0.310712 b= 0.361783\n",
      "Epoch: 1350 cost= 0.087500162 W= 0.307077 b= 0.387933\n",
      "Epoch: 1400 cost= 0.086282447 W= 0.303658 b= 0.412528\n",
      "Epoch: 1450 cost= 0.085205585 W= 0.300443 b= 0.43566\n",
      "Epoch: 1500 cost= 0.084253244 W= 0.297419 b= 0.457416\n",
      "Epoch: 1550 cost= 0.083411053 W= 0.294574 b= 0.477879\n",
      "Epoch: 1600 cost= 0.082666352 W= 0.291899 b= 0.497123\n",
      "Epoch: 1650 cost= 0.082007773 W= 0.289383 b= 0.515224\n",
      "Epoch: 1700 cost= 0.081425428 W= 0.287016 b= 0.532249\n",
      "Epoch: 1750 cost= 0.080910482 W= 0.284791 b= 0.54826\n",
      "Epoch: 1800 cost= 0.080455147 W= 0.282697 b= 0.56332\n",
      "Epoch: 1850 cost= 0.080052532 W= 0.280728 b= 0.577485\n",
      "Epoch: 1900 cost= 0.079696536 W= 0.278876 b= 0.590808\n",
      "Epoch: 1950 cost= 0.079381771 W= 0.277135 b= 0.603338\n",
      "Epoch: 2000 cost= 0.079103500 W= 0.275496 b= 0.615123\n",
      "Epoch: 2050 cost= 0.078857534 W= 0.273956 b= 0.626204\n",
      "Epoch: 2100 cost= 0.078640044 W= 0.272507 b= 0.636627\n",
      "Epoch: 2150 cost= 0.078447811 W= 0.271145 b= 0.64643\n",
      "Epoch: 2200 cost= 0.078277871 W= 0.269863 b= 0.65565\n",
      "Epoch: 2250 cost= 0.078127638 W= 0.268658 b= 0.664322\n",
      "Epoch: 2300 cost= 0.077994838 W= 0.267524 b= 0.672478\n",
      "Epoch: 2350 cost= 0.077877469 W= 0.266457 b= 0.680149\n",
      "Epoch: 2400 cost= 0.077773713 W= 0.265455 b= 0.687364\n",
      "Epoch: 2450 cost= 0.077682056 W= 0.264511 b= 0.694149\n",
      "Epoch: 2500 cost= 0.077601023 W= 0.263624 b= 0.700532\n",
      "Epoch: 2550 cost= 0.077529430 W= 0.26279 b= 0.706535\n",
      "Epoch: 2600 cost= 0.077466138 W= 0.262005 b= 0.712181\n",
      "Epoch: 2650 cost= 0.077410236 W= 0.261267 b= 0.717492\n",
      "Epoch: 2700 cost= 0.077360868 W= 0.260572 b= 0.722487\n",
      "Epoch: 2750 cost= 0.077317223 W= 0.259919 b= 0.727185\n",
      "Epoch: 2800 cost= 0.077278681 W= 0.259305 b= 0.731604\n",
      "Epoch: 2850 cost= 0.077244639 W= 0.258727 b= 0.735759\n",
      "Epoch: 2900 cost= 0.077214576 W= 0.258184 b= 0.739668\n",
      "Epoch: 2950 cost= 0.077188015 W= 0.257673 b= 0.743344\n",
      "Epoch: 3000 cost= 0.077164561 W= 0.257192 b= 0.746801\n",
      "Optimization Finished!\n",
      "Training cost= 0.0771646 W= 0.257192 b= 0.746801 \n",
      "\n"
     ]
    },
    {
     "data": {
      "image/png": "[encoded data removed]",
      "text/plain": [
       "<matplotlib.figure.Figure at 0x7fdce42b35d0>"
      ]
     },
     "metadata": {},
     "output_type": "display_data"
    },
    {
     "name": "stdout",
     "output_type": "stream",
     "text": [
      "Testing... (Mean square loss Comparison)\n",
      "Testing cost= 0.0777972\n",
      "Absolute mean square loss difference: 0.000632681\n"
     ]
    },
    {
     "data": {
      "image/png": "[encoded data removed]",
      "text/plain": [
       "<matplotlib.figure.Figure at 0x7fdcc86dfd10>"
      ]
     },
     "metadata": {},
     "output_type": "display_data"
    }
   ],
   "source": [
    "# Start training\n",
    "with tf.Session() as sess:\n",
    "    # Run the initializer\n",
    "    sess.run(init)\n",
    "\n",
    "    # Fit all training data\n",
    "    for epoch in range(training_epochs):\n",
    "        for (x, y) in zip(train_X, train_Y):\n",
    "            sess.run(optimizer, feed_dict={X: x, Y: y})\n",
    "\n",
    "        # Display logs per epoch step\n",
    "        if (epoch + 1) % display_step == 0:\n",
    "            c = sess.run(cost, feed_dict={X: train_X, Y:train_Y})\n",
    "            print(\"Epoch:\", '%04d' % (epoch+1), \"cost=\", \"{:.9f}\".format(c), \\\n",
    "                \"W=\", sess.run(W), \"b=\", sess.run(b))\n",
    "    print(\"Optimization Finished!\")\n",
    "    training_cost = sess.run(cost, feed_dict={X: train_X, Y: train_Y})\n",
    "    print(\"Training cost=\", training_cost, \"W=\", sess.run(W), \"b=\", sess.run(b), '\\n')\n",
    "\n",
    "    # Graphic display\n",
    "    plt.plot(train_X, train_Y, 'ro', label='Original data')print(\"Optimization Finished!\")\n",
    "    training_cost = sess.run(cost, feed_dict={X: train_X, Y: train_Y})\n",
    "    print(\"Training cost=\", training_cost, \"W=\", sess.run(W), \"b=\", sess.run(b), '\\n')\n",
    "\n",
    "    # Graphic display\n",
    "    plt.plot(train_X, train_Y, 'ro', label='Original data')\n",
    "    plt.plot(train_X, sess.run(W) * train_X + sess.run(b), label='Fitted line')\n",
    "    plt.legend()\n",
    "    plt.show()\n",
    "\n",
    "    # Testing example, as requested (Issue #2)\n",
    "    test_X = numpy.asarray([6.83, 4.668, 8.9, 7.91, 5.7, 8.7, 3.1, 2.1])\n",
    "    test_Y = numpy.asarray([1.84, 2.273, 3.2, 2.831, 2.92, 3.24, 1.35, 1.03])\n",
    "\n",
    "    print(\"Testing... (Mean square loss Comparison)\")\n",
    "    testing_cost = sess.run(\n",
    "        tf.reduce_sum(tf.pow(pred - Y, 2)) / (2 * test_X.shape[0]),\n",
    "        feed_dict={X: test_X, Y: test_Y})  # same function as cost above\n",
    "    print(\"Testing cost=\", testing_cost)\n",
    "    print(\"Absolute mean square loss difference:\", abs(\n",
    "        training_cost - testing_cost))\n",
    "\n",
    "    plt.plot(test_X, test_Y, 'bo', label='Testing data')\n",
    "    plt.plot(train_X, sess.run(W) * train_X + sess.run(b), label='Fitted line')\n",
    "    plt.legend()\n",
    "    plt.show()\n",
    "    plt.plot(train_X, sess.run(W) * train_X + sess.run(b), label='Fitted line')\n",
    "    plt.legend()\n",
    "    plt.show()\n",
    "\n",
    "    # Testing example, as requested (Issue #2)\n",
    "    test_X = numpy.asarray([6.83, 4.668, 8.9, 7.91, 5.7, 8.7, 3.1, 2.1])\n",
    "    test_Y = numpy.asarray([1.84, 2.273, 3.2, 2.831, 2.92, 3.24, 1.35, 1.03])\n",
    "\n",
    "    print(\"Testing... (Mean square loss Comparison)\")\n",
    "    testing_cost = sess.run(\n",
    "        tf.reduce_sum(tf.pow(pred - Y, 2)) / (2 * test_X.shape[0]),\n",
    "        feed_dict={X: test_X, Y: test_Y})  # same function as cost above\n",
    "    print(\"Testing cost=\", testing_cost)\n",
    "    print(\"Absolute mean square loss difference:\", abs(\n",
    "        training_cost - testing_cost))\n",
    "\n",
    "    plt.plot(test_X, test_Y, 'bo', label='Testing data')\n",
    "    plt.plot(train_X, sess.run(W) * train_X + sess.run(b), label='Fitted line')\n",
    "    plt.legend()\n",
    "    plt.show()"
   ]
  }
 ],
 "metadata": {
  "kernelspec": {
   "display_name": "Python 3",
   "language": "python",
   "name": "python3"
  },
  "language_info": {
   "codemirror_mode": {
    "name": "ipython",
    "version": 2
   },
   "file_extension": ".py",
   "mimetype": "text/x-python",
   "name": "python",
   "nbconvert_exporter": "python",
   "pygments_lexer": "ipython2",
   "version": "2.7.12"
  }
 },
 "nbformat": 4,
 "nbformat_minor": 2
}
