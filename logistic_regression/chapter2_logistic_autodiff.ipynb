{
 "cells": [
  {
   "cell_type": "code",
   "execution_count": 1,
   "metadata": {},
   "outputs": [
    {
     "data": {
      "text/html": [
       "<div>\n",
       "<table border=\"1\" class=\"dataframe\">\n",
       "  <thead>\n",
       "    <tr style=\"text-align: right;\">\n",
       "      <th></th>\n",
       "      <th>0</th>\n",
       "      <th>1</th>\n",
       "      <th>2</th>\n",
       "      <th>3</th>\n",
       "      <th>4</th>\n",
       "      <th>5</th>\n",
       "      <th>6</th>\n",
       "      <th>7</th>\n",
       "      <th>8</th>\n",
       "      <th>9</th>\n",
       "      <th>10</th>\n",
       "    </tr>\n",
       "  </thead>\n",
       "  <tbody>\n",
       "    <tr>\n",
       "      <th>0</th>\n",
       "      <td>1000025</td>\n",
       "      <td>5</td>\n",
       "      <td>1</td>\n",
       "      <td>1</td>\n",
       "      <td>1</td>\n",
       "      <td>2</td>\n",
       "      <td>1</td>\n",
       "      <td>3</td>\n",
       "      <td>1</td>\n",
       "      <td>1</td>\n",
       "      <td>2</td>\n",
       "    </tr>\n",
       "    <tr>\n",
       "      <th>1</th>\n",
       "      <td>1002945</td>\n",
       "      <td>5</td>\n",
       "      <td>4</td>\n",
       "      <td>4</td>\n",
       "      <td>5</td>\n",
       "      <td>7</td>\n",
       "      <td>10</td>\n",
       "      <td>3</td>\n",
       "      <td>2</td>\n",
       "      <td>1</td>\n",
       "      <td>2</td>\n",
       "    </tr>\n",
       "    <tr>\n",
       "      <th>2</th>\n",
       "      <td>1015425</td>\n",
       "      <td>3</td>\n",
       "      <td>1</td>\n",
       "      <td>1</td>\n",
       "      <td>1</td>\n",
       "      <td>2</td>\n",
       "      <td>2</td>\n",
       "      <td>3</td>\n",
       "      <td>1</td>\n",
       "      <td>1</td>\n",
       "      <td>2</td>\n",
       "    </tr>\n",
       "    <tr>\n",
       "      <th>3</th>\n",
       "      <td>1016277</td>\n",
       "      <td>6</td>\n",
       "      <td>8</td>\n",
       "      <td>8</td>\n",
       "      <td>1</td>\n",
       "      <td>3</td>\n",
       "      <td>4</td>\n",
       "      <td>3</td>\n",
       "      <td>7</td>\n",
       "      <td>1</td>\n",
       "      <td>2</td>\n",
       "    </tr>\n",
       "    <tr>\n",
       "      <th>4</th>\n",
       "      <td>1017023</td>\n",
       "      <td>4</td>\n",
       "      <td>1</td>\n",
       "      <td>1</td>\n",
       "      <td>3</td>\n",
       "      <td>2</td>\n",
       "      <td>1</td>\n",
       "      <td>3</td>\n",
       "      <td>1</td>\n",
       "      <td>1</td>\n",
       "      <td>2</td>\n",
       "    </tr>\n",
       "  </tbody>\n",
       "</table>\n",
       "</div>"
      ],
      "text/plain": [
       "        0   1   2   3   4   5   6   7   8   9   10\n",
       "0  1000025   5   1   1   1   2   1   3   1   1   2\n",
       "1  1002945   5   4   4   5   7  10   3   2   1   2\n",
       "2  1015425   3   1   1   1   2   2   3   1   1   2\n",
       "3  1016277   6   8   8   1   3   4   3   7   1   2\n",
       "4  1017023   4   1   1   3   2   1   3   1   1   2"
      ]
     },
     "execution_count": 1,
     "metadata": {},
     "output_type": "execute_result"
    }
   ],
   "source": [
    "import tensorflow as tf\n",
    "%matplotlib inline\n",
    "import matplotlib.pyplot as plt\n",
    "import pandas as pd\n",
    "import numpy as np\n",
    "file_path='data/BreastCancer/breast-cancer-wisconsin.data.txt'\n",
    "data=pd.read_csv(file_path, delimiter=',',header =None,skipinitialspace=True)\n",
    "\n",
    "data.head()\n",
    "#data.describe()\n",
    "#data.info()"
   ]
  },
  {
   "cell_type": "code",
   "execution_count": 2,
   "metadata": {},
   "outputs": [
    {
     "name": "stdout",
     "output_type": "stream",
     "text": [
      "<class 'pandas.core.frame.DataFrame'>\n",
      "Int64Index: 699 entries, 0 to 698\n",
      "Data columns (total 11 columns):\n",
      "0     699 non-null int64\n",
      "1     699 non-null int64\n",
      "2     699 non-null int64\n",
      "3     699 non-null int64\n",
      "4     699 non-null int64\n",
      "5     699 non-null int64\n",
      "6     683 non-null object\n",
      "7     699 non-null int64\n",
      "8     699 non-null int64\n",
      "9     699 non-null int64\n",
      "10    699 non-null int64\n",
      "dtypes: int64(10), object(1)\n",
      "memory usage: 65.5+ KB\n"
     ]
    }
   ],
   "source": [
    "data=data.replace('?', np.NaN)\n",
    "data.info()\n"
   ]
  },
  {
   "cell_type": "code",
   "execution_count": 3,
   "metadata": {},
   "outputs": [
    {
     "name": "stdout",
     "output_type": "stream",
     "text": [
      "<class 'pandas.core.frame.DataFrame'>\n",
      "Int64Index: 683 entries, 0 to 698\n",
      "Data columns (total 11 columns):\n",
      "0     683 non-null int64\n",
      "1     683 non-null int64\n",
      "2     683 non-null int64\n",
      "3     683 non-null int64\n",
      "4     683 non-null int64\n",
      "5     683 non-null int64\n",
      "6     683 non-null object\n",
      "7     683 non-null int64\n",
      "8     683 non-null int64\n",
      "9     683 non-null int64\n",
      "10    683 non-null int64\n",
      "dtypes: int64(10), object(1)\n",
      "memory usage: 64.0+ KB\n"
     ]
    }
   ],
   "source": [
    "data=data.dropna()\n",
    "data.info()"
   ]
  },
  {
   "cell_type": "code",
   "execution_count": 5,
   "metadata": {
    "collapsed": true
   },
   "outputs": [],
   "source": [
    "from sklearn.preprocessing import LabelEncoder\n",
    "labelencoder_X=LabelEncoder()\n",
    "data.iloc[:,10] = labelencoder_X.fit_transform(data.iloc[:,10])\n",
    "#data.head(20)"
   ]
  },
  {
   "cell_type": "code",
   "execution_count": 6,
   "metadata": {
    "collapsed": true
   },
   "outputs": [],
   "source": [
    "from sklearn.model_selection import train_test_split\n",
    "x_train_raw, x_test_raw,y_train,y_test = train_test_split(data.iloc[:,1:10], data.iloc[:,10],test_size=0.3, random_state=41)\n",
    "\n",
    "m=x_train_raw.shape[0]\n",
    "n=x_test_raw.shape[0]\n",
    "\n",
    "x_train = np.c_[np.ones((m, 1)), x_train_raw]\n",
    "y_train=y_train.reshape(-1, 1)\n",
    "\n",
    "x_test = np.c_[np.ones((n, 1)), x_test_raw]\n",
    "y_test=y_test.reshape(-1, 1)\n",
    "\n",
    "#print(x_train)\n",
    "#print(y_train)"
   ]
  },
  {
   "cell_type": "code",
   "execution_count": 6,
   "metadata": {
    "collapsed": true
   },
   "outputs": [],
   "source": [
    "def random_batch(x_train, y_train, batch_size):\n",
    "    rnd_indices = np.random.randint(0, len(x_train), batch_size)\n",
    "    x_batch = x_train[rnd_indices]\n",
    "    y_batch = y_train[rnd_indices]\n",
    "    return x_batch, y_batch"
   ]
  },
  {
   "cell_type": "code",
   "execution_count": 7,
   "metadata": {},
   "outputs": [
    {
     "name": "stdout",
     "output_type": "stream",
     "text": [
      "<tf.Variable 'theta:0' shape=(10, 1) dtype=float32_ref>\n",
      "Tensor(\"gradients/logits_grad/MatMul_1:0\", shape=(10, 1), dtype=float32)\n"
     ]
    }
   ],
   "source": [
    "# Parameters\n",
    "learning_rate = 0.01\n",
    "training_epochs = 10\n",
    "batch_size = 50\n",
    "display_step = 1\n",
    "n_inputs=9\n",
    "k=0\n",
    "x = tf.placeholder(tf.float32, shape=(None, n_inputs + 1), name=\"x\")\n",
    "y = tf.placeholder(tf.int64, shape=(None), name=\"y\")\n",
    "theta = tf.Variable(tf.random_uniform([n_inputs + 1, 1], -1.0, 1.0, seed=42), name=\"theta\")\n",
    "\n",
    "#theta = tf.Variable(tf.zeros([10, 1]))\n",
    "print(theta)\n",
    "\n",
    "\n",
    "logits = tf.matmul(x, theta, name=\"logits\")\n",
    "y_proba = tf.sigmoid(logits)\n",
    "\n",
    "cost = tf.losses.log_loss(y, y_proba)\n",
    "\n",
    "#optimizer = tf.train.GradientDescentOptimizer(learning_rate).minimize(cost)\n",
    "\n",
    "[dtheta] = tf.gradients(cost, [theta])\n",
    "\n",
    "print(dtheta)\n",
    "\n",
    "#moment=0.9\n",
    "#if(k==0):\n",
    "#    v=0\n",
    "#    k=1\n",
    "    \n",
    "#v=v*moment+learning_rate * dtheta\n",
    "\n",
    "update_rule=theta -learning_rate*dtheta\n",
    "\n",
    "optimizer = tf.assign(theta,update_rule)\n",
    "\n",
    "init = tf.global_variables_initializer()"
   ]
  },
  {
   "cell_type": "code",
   "execution_count": 8,
   "metadata": {},
   "outputs": [
    {
     "name": "stdout",
     "output_type": "stream",
     "text": [
      "Epoch: 0 \tLoss: 1.48537\n",
      "Epoch: 5 \tLoss: 1.03145\n",
      "Epoch: 10 \tLoss: 0.767044\n",
      "Epoch: 15 \tLoss: 0.634214\n",
      "Epoch: 20 \tLoss: 0.568139\n",
      "Epoch: 25 \tLoss: 0.520503\n",
      "Epoch: 30 \tLoss: 0.486886\n",
      "Epoch: 35 \tLoss: 0.473554\n",
      "Epoch: 40 \tLoss: 0.453359\n",
      "Epoch: 45 \tLoss: 0.441239\n",
      "Epoch: 50 \tLoss: 0.42431\n",
      "Epoch: 55 \tLoss: 0.414427\n",
      "Epoch: 60 \tLoss: 0.413988\n",
      "Epoch: 65 \tLoss: 0.407326\n",
      "Epoch: 70 \tLoss: 0.394495\n",
      "Epoch: 75 \tLoss: 0.384859\n",
      "Epoch: 80 \tLoss: 0.388199\n",
      "Epoch: 85 \tLoss: 0.375145\n",
      "Epoch: 90 \tLoss: 0.378305\n",
      "Epoch: 95 \tLoss: 0.358947\n"
     ]
    }
   ],
   "source": [
    "n_epochs = 100\n",
    "batch_size = 50\n",
    "n_batches = int(np.ceil(len(x_train) / batch_size))\n",
    "\n",
    "with tf.Session() as sess:\n",
    "    sess.run(init)\n",
    "    for epoch in range(n_epochs):\n",
    "        for batch_index in range(n_batches):\n",
    "            x_batch, y_batch = random_batch(x_train, y_train, batch_size)\n",
    "            sess.run(optimizer, feed_dict={x: x_batch, y: y_batch})\n",
    "        loss_val = cost.eval({x: x_test, y: y_test})\n",
    "        if epoch % 5 == 0:\n",
    "            print(\"Epoch:\", epoch, \"\\tLoss:\", loss_val)\n",
    "\n",
    "    y_proba_val = y_proba.eval(feed_dict={x: x_test, y: y_test})"
   ]
  },
  {
   "cell_type": "code",
   "execution_count": 9,
   "metadata": {},
   "outputs": [
    {
     "name": "stdout",
     "output_type": "stream",
     "text": [
      "0.892682926829\n"
     ]
    }
   ],
   "source": [
    "#print(y_proba_val)\n",
    "y_pred = (y_proba_val >= 0.5)\n",
    "#print(y_pred)\n",
    "\n",
    "from sklearn import metrics\n",
    "score_test = metrics.accuracy_score(y_test, y_pred)\n",
    "print(score_test)"
   ]
  },
  {
   "cell_type": "code",
   "execution_count": null,
   "metadata": {
    "collapsed": true
   },
   "outputs": [],
   "source": []
  }
 ],
 "metadata": {
  "kernelspec": {
   "display_name": "Python 3",
   "language": "python",
   "name": "python3"
  },
  "language_info": {
   "codemirror_mode": {
    "name": "ipython",
    "version": 3
   },
   "file_extension": ".py",
   "mimetype": "text/x-python",
   "name": "python",
   "nbconvert_exporter": "python",
   "pygments_lexer": "ipython3",
   "version": "3.5.2"
  }
 },
 "nbformat": 4,
 "nbformat_minor": 2
}
