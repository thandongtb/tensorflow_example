{
 "cells": [
  {
   "cell_type": "code",
   "execution_count": 3,
   "metadata": {},
   "outputs": [],
   "source": [
    "import tensorflow as tf\n",
    "import numpy as np\n",
    "\n",
    "sess = tf.Session()"
   ]
  },
  {
   "cell_type": "code",
   "execution_count": 34,
   "metadata": {},
   "outputs": [],
   "source": [
    "identity_matrix = tf.diag([1.0, 2.0, 3.5])\n",
    "A = tf.truncated_normal([2, 3])\n",
    "B = tf.fill([2, 3], 4.5)\n",
    "C = tf.random_uniform([3, 2])\n",
    "D = tf.convert_to_tensor([\n",
    "    [1.0, 3.0], [3.0, 4.0]\n",
    "])"
   ]
  },
  {
   "cell_type": "code",
   "execution_count": 35,
   "metadata": {},
   "outputs": [
    {
     "data": {
      "text/plain": [
       "array([[ 1.,  3.],\n",
       "       [ 3.,  4.]], dtype=float32)"
      ]
     },
     "execution_count": 35,
     "metadata": {},
     "output_type": "execute_result"
    }
   ],
   "source": [
    "sess.run(D)"
   ]
  },
  {
   "cell_type": "code",
   "execution_count": 36,
   "metadata": {},
   "outputs": [
    {
     "name": "stdout",
     "output_type": "stream",
     "text": [
      "[[ 5.20643806  4.99972725  3.88283706]\n",
      " [ 3.22123408  4.09523058  4.49026108]]\n"
     ]
    }
   ],
   "source": [
    "# Addition and subtraction \n",
    "print(sess.run(A + B))"
   ]
  },
  {
   "cell_type": "code",
   "execution_count": 37,
   "metadata": {},
   "outputs": [
    {
     "name": "stdout",
     "output_type": "stream",
     "text": [
      "[[ 0.  0.  0.]\n",
      " [ 0.  0.  0.]]\n"
     ]
    }
   ],
   "source": [
    "print(sess.run(B - B))"
   ]
  },
  {
   "cell_type": "code",
   "execution_count": 38,
   "metadata": {},
   "outputs": [
    {
     "name": "stdout",
     "output_type": "stream",
     "text": [
      "(3, 3)\n",
      "(2, 3)\n",
      "[[  4.5    9.    15.75]\n",
      " [  4.5    9.    15.75]]\n"
     ]
    }
   ],
   "source": [
    "print identity_matrix.shape\n",
    "print B.shape\n",
    "print(sess.run(tf.matmul(B, identity_matrix)))"
   ]
  },
  {
   "cell_type": "code",
   "execution_count": 42,
   "metadata": {},
   "outputs": [
    {
     "name": "stdout",
     "output_type": "stream",
     "text": [
      "[[-0.80000007  0.60000002]\n",
      " [ 0.60000002 -0.20000002]]\n",
      "[[ 1.  0.]\n",
      " [ 0.  1.]]\n"
     ]
    }
   ],
   "source": [
    "# Inverse the matrix\n",
    "E = tf.matrix_inverse(D)\n",
    "print(sess.run(E))\n",
    "# Test again\n",
    "print(sess.run(tf.matmul(D, E)))"
   ]
  },
  {
   "cell_type": "code",
   "execution_count": 58,
   "metadata": {},
   "outputs": [
    {
     "name": "stdout",
     "output_type": "stream",
     "text": [
      "[-0.85410208  5.85410213]\n",
      "[[ 0.72654241 -3.07768369]\n",
      " [-0.44902825 -4.97979641]]\n",
      "[[ 0.72654265 -3.07768345]\n",
      " [-0.44902802 -4.97979689]]\n"
     ]
    }
   ],
   "source": [
    "# Eigenvalues of a matrix\n",
    "\n",
    "eigens = tf.self_adjoint_eig(D)\n",
    "print(sess.run(eigens[0]))\n",
    "\n",
    "# Testing again\n",
    "print(sess.run(tf.matmul(D, eigens[1])))\n",
    "\n",
    "print(sess.run(tf.multiply(eigens[0], eigens[1])))"
   ]
  },
  {
   "cell_type": "code",
   "execution_count": null,
   "metadata": {},
   "outputs": [],
   "source": []
  }
 ],
 "metadata": {
  "kernelspec": {
   "display_name": "Python 3",
   "language": "python",
   "name": "python3"
  },
  "language_info": {
   "codemirror_mode": {
    "name": "ipython",
    "version": 2
   },
   "file_extension": ".py",
   "mimetype": "text/x-python",
   "name": "python",
   "nbconvert_exporter": "python",
   "pygments_lexer": "ipython2",
   "version": "2.7.12"
  }
 },
 "nbformat": 4,
 "nbformat_minor": 2
}
