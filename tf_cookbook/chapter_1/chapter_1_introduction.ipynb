{
 "cells": [
  {
   "cell_type": "code",
   "execution_count": 1,
   "metadata": {},
   "outputs": [],
   "source": [
    "import tensorflow as tf"
   ]
  },
  {
   "cell_type": "code",
   "execution_count": 34,
   "metadata": {},
   "outputs": [
    {
     "name": "stdout",
     "output_type": "stream",
     "text": [
      "[[ 0.  0.  0.  0.]\n",
      " [ 0.  0.  0.  0.]\n",
      " [ 0.  0.  0.  0.]]\n",
      "[[ 1.  1.  1.]\n",
      " [ 1.  1.  1.]]\n",
      "[[5 5 5 5]\n",
      " [5 5 5 5]\n",
      " [5 5 5 5]]\n",
      "[[5 5 5]\n",
      " [5 5 5]\n",
      " [5 5 5]]\n",
      "[[0 0 0]\n",
      " [0 0 0]\n",
      " [0 0 0]]\n",
      "[  0.   2.   4.   6.   8.  10.  12.  14.  16.  18.  20.]\n",
      "[  5.   8.  11.  14.  17.  20.]\n",
      "[[ 2.07184887  2.00462627  3.22057295]\n",
      " [ 2.55796432  0.71657276  1.36742687]\n",
      " [ 0.69837332  3.79758501  2.99181175]]\n"
     ]
    }
   ],
   "source": [
    "# Declaring tensor\n",
    "zero_tsr = tf.zeros([3, 4])\n",
    "\n",
    "one_tsr = tf.ones([2, 3])\n",
    "\n",
    "filled_tsr = tf.fill([3, 4], 5)\n",
    "\n",
    "# tf.constant can use to fill value to an array mimicking the tf.fill\n",
    "filled_constant_tsr = tf.constant(5, shape=[3, 3])\n",
    "\n",
    "# Tensor with similar shape of another tensor\n",
    "zeros_sim_tsr = tf.zeros_like(filled_constant_tsr)\n",
    "\n",
    "# Sequence tensor\n",
    "\n",
    "linespace_tsr = tf.linspace(start=0.0, stop=20.0, num=11)\n",
    "limit_sequence = tf.range(start=5.0, limit=21.0, delta=3)\n",
    "\n",
    "# Random tensor\n",
    "random_uniform_tsr = tf.random_uniform(shape=[3, 3], minval=0, maxval=4)\n",
    "\n",
    "with tf.Session() as sess:\n",
    "    print(sess.run(zero_tsr))\n",
    "    print(sess.run(one_tsr))\n",
    "    print(sess.run(filled_tsr))\n",
    "    print(sess.run(filled_constant_tsr))    \n",
    "    print(sess.run(zeros_sim_tsr))     \n",
    "    print(sess.run(linespace_tsr))    \n",
    "    print(sess.run(limit_sequence))      \n",
    "    print(sess.run(random_uniform_tsr))                    "
   ]
  },
  {
   "cell_type": "code",
   "execution_count": 99,
   "metadata": {},
   "outputs": [
    {
     "name": "stdout",
     "output_type": "stream",
     "text": [
      "[[ 0.54992032  0.1420033   0.86946476]\n",
      " [ 0.94256306  0.08876932  0.72131598]]\n",
      "[[ 1.96073973  2.16210556]\n",
      " [ 4.07656336  2.87568665]\n",
      " [ 2.61704898  1.60426784]]\n",
      "[[ 4.4760294   3.63652182]\n",
      " [ 6.80037642  4.86061478]]\n",
      "[[-22.87706947  28.67192459]\n",
      " [ 40.79296112 -50.6650238 ]]\n",
      "[[ 0.17608976  0.09086657  0.63905299]\n",
      " [ 0.60134435  0.26965988  0.37385094]]\n"
     ]
    }
   ],
   "source": [
    "# Multiply two matrix\n",
    "\n",
    "a = tf.random_uniform(shape=[2, 3], minval=0, maxval=1)\n",
    "b = tf.random_normal(shape=[3, 2], mean=3, stddev=1.0)\n",
    "c = tf.matmul(a, b)\n",
    "\n",
    "rand_crop = tf.random_crop(a, size=[1, 3])\n",
    "shuf_tsr = tf.random_shuffle(a)\n",
    "\n",
    "with tf.Session() as sess:\n",
    "    print(sess.run(a))\n",
    "    print(sess.run(b))\n",
    "    print(sess.run(tf.transpose(c)))   \n",
    "    print(sess.run(tf.matrix_inverse(c)))    \n",
    "    print(sess.run(shuf_tsr))   \n",
    "    "
   ]
  },
  {
   "cell_type": "code",
   "execution_count": 103,
   "metadata": {},
   "outputs": [
    {
     "name": "stdout",
     "output_type": "stream",
     "text": [
      "<type 'list'>\n",
      "<class 'tensorflow.python.framework.ops.Tensor'>\n"
     ]
    }
   ],
   "source": [
    "# Convert numpy array to tensor\n",
    "import numpy as np\n",
    "\n",
    "a = [2, 3]\n",
    "print(type(a))\n",
    "a = tf.convert_to_tensor(a)\n",
    "print(type(a))"
   ]
  },
  {
   "cell_type": "code",
   "execution_count": null,
   "metadata": {},
   "outputs": [],
   "source": []
  }
 ],
 "metadata": {
  "kernelspec": {
   "display_name": "Python 3",
   "language": "python",
   "name": "python3"
  },
  "language_info": {
   "codemirror_mode": {
    "name": "ipython",
    "version": 2
   },
   "file_extension": ".py",
   "mimetype": "text/x-python",
   "name": "python",
   "nbconvert_exporter": "python",
   "pygments_lexer": "ipython2",
   "version": "2.7.12"
  }
 },
 "nbformat": 4,
 "nbformat_minor": 2
}
