{
 "cells": [
  {
   "cell_type": "code",
   "execution_count": 1,
   "metadata": {},
   "outputs": [],
   "source": [
    "import tensorflow as tf\n",
    "sess = tf.Session()"
   ]
  },
  {
   "cell_type": "code",
   "execution_count": 2,
   "metadata": {},
   "outputs": [
    {
     "name": "stdout",
     "output_type": "stream",
     "text": [
      "[  0.   3.  10.]\n",
      "[  0.   3.  10.]\n"
     ]
    }
   ],
   "source": [
    "# ReLU activation function\n",
    "# Build in\n",
    "x = [-3.0, 3.0, 10.0]\n",
    "print(sess.run(tf.nn.relu(x)))\n",
    "\n",
    "# Manually\n",
    "x_relu = [max(0, i) for i in x]\n",
    "print(sess.run(tf.convert_to_tensor(x_relu)))"
   ]
  },
  {
   "cell_type": "code",
   "execution_count": 3,
   "metadata": {},
   "outputs": [
    {
     "name": "stdout",
     "output_type": "stream",
     "text": [
      "[ 0.  3.  6.]\n",
      "[ 0.  3.  6.]\n"
     ]
    }
   ],
   "source": [
    "# ReLU6 activation function\n",
    "print(sess.run(tf.nn.relu6(x)))\n",
    "\n",
    "# Manually\n",
    "x_relu6 = [min(max(0, i), 6) for i in x]\n",
    "print(sess.run(tf.convert_to_tensor(x_relu6)))"
   ]
  },
  {
   "cell_type": "code",
   "execution_count": 4,
   "metadata": {},
   "outputs": [
    {
     "name": "stdout",
     "output_type": "stream",
     "text": [
      "[ 0.04742587  0.95257413  0.99995458]\n",
      "[0.047425874, 0.95257413, 0.99995458]\n"
     ]
    }
   ],
   "source": [
    "# Sigmoid function\n",
    "print(sess.run(tf.nn.sigmoid(x)))\n",
    "# Manually\n",
    "x_sigmoid = [tf.truediv(1.0, tf.add(1.0, tf.exp(-i))) for i in x]\n",
    "\n",
    "print(sess.run(x_sigmoid))"
   ]
  },
  {
   "cell_type": "code",
   "execution_count": 5,
   "metadata": {},
   "outputs": [
    {
     "name": "stdout",
     "output_type": "stream",
     "text": [
      "[-0.99505472  0.99505472  1.        ]\n",
      "[-0.99505472, 0.99505472, 1.0]\n"
     ]
    }
   ],
   "source": [
    "# Tanh activation function\n",
    "# build in\n",
    "print(sess.run(tf.nn.tanh(x)))\n",
    "# manually\n",
    "x_tanh = [tf.truediv(tf.subtract(tf.exp(i), tf.exp(-i)), tf.add(tf.exp(i), tf.exp(-i))) for i in x]\n",
    "print(sess.run(x_tanh))"
   ]
  },
  {
   "cell_type": "code",
   "execution_count": 6,
   "metadata": {},
   "outputs": [
    {
     "name": "stdout",
     "output_type": "stream",
     "text": [
      "[-0.75        0.75        0.90909094]\n",
      "[-0.75        0.75        0.90909094]\n"
     ]
    }
   ],
   "source": [
    "# The softsign function\n",
    "print(sess.run(tf.nn.softsign(x)))\n",
    "# Manually\n",
    "x_softsign = tf.truediv(x, tf.add(tf.abs(x), 1))\n",
    "print(sess.run(x_softsign))"
   ]
  },
  {
   "cell_type": "code",
   "execution_count": 7,
   "metadata": {},
   "outputs": [
    {
     "name": "stdout",
     "output_type": "stream",
     "text": [
      "[  0.04858733   3.04858732  10.00004578]\n",
      "[  0.04858733   3.04858732  10.00004578]\n"
     ]
    }
   ],
   "source": [
    "# Soft plus activation function\n",
    "print(sess.run(tf.nn.softplus(x)))\n",
    "# Manually\n",
    "x_softplus = tf.log(tf.exp(x) + 1)\n",
    "print(sess.run(x_softplus))"
   ]
  },
  {
   "cell_type": "code",
   "execution_count": 8,
   "metadata": {},
   "outputs": [
    {
     "name": "stdout",
     "output_type": "stream",
     "text": [
      "[ -0.95021296   3.          10.        ]\n",
      "[ -0.95021296   3.          10.        ]\n"
     ]
    }
   ],
   "source": [
    "# ELU activation function\n",
    "print(sess.run(tf.nn.elu(x)))\n",
    "# Manually\n",
    "x_elu = []\n",
    "for i in x:\n",
    "    if i < 0:\n",
    "        x_elu.append(tf.exp(i) - 1)\n",
    "    else:\n",
    "        x_elu.append(i)\n",
    "print(sess.run(tf.convert_to_tensor(x_elu)))"
   ]
  },
  {
   "cell_type": "code",
   "execution_count": 10,
   "metadata": {},
   "outputs": [
    {
     "name": "stdout",
     "output_type": "stream",
     "text": [
      "[  2.25826511e-06   9.11049196e-04   9.99086738e-01]\n"
     ]
    }
   ],
   "source": [
    "# Softmax\n",
    "print(sess.run(tf.nn.softmax(x)))"
   ]
  },
  {
   "cell_type": "code",
   "execution_count": 18,
   "metadata": {},
   "outputs": [
    {
     "name": "stdout",
     "output_type": "stream",
     "text": [
      "0.683153\n"
     ]
    }
   ],
   "source": [
    "print(sess.run(tf.nn.sigmoid(0.7683)))"
   ]
  },
  {
   "cell_type": "code",
   "execution_count": null,
   "metadata": {},
   "outputs": [],
   "source": []
  },
  {
   "cell_type": "code",
   "execution_count": null,
   "metadata": {},
   "outputs": [],
   "source": []
  }
 ],
 "metadata": {
  "kernelspec": {
   "display_name": "Python 3",
   "language": "python",
   "name": "python3"
  },
  "language_info": {
   "codemirror_mode": {
    "name": "ipython",
    "version": 3
   },
   "file_extension": ".py",
   "mimetype": "text/x-python",
   "name": "python",
   "nbconvert_exporter": "python",
   "pygments_lexer": "ipython3",
   "version": "3.5.2"
  }
 },
 "nbformat": 4,
 "nbformat_minor": 2
}
