{
 "cells": [
  {
   "cell_type": "code",
   "execution_count": 6,
   "metadata": {},
   "outputs": [
    {
     "name": "stdout",
     "output_type": "stream",
     "text": [
      "Extracting MNIST_data/train-images-idx3-ubyte.gz\n",
      "Extracting MNIST_data/train-labels-idx1-ubyte.gz\n",
      "Extracting MNIST_data/t10k-images-idx3-ubyte.gz\n",
      "Extracting MNIST_data/t10k-labels-idx1-ubyte.gz\n",
      "(55000, 784)\n",
      "(55000,)\n",
      "(10000, 784)\n",
      "(10000,)\n"
     ]
    }
   ],
   "source": [
    "import tensorflow as tf\n",
    "%matplotlib inline\n",
    "import matplotlib.pyplot as plt\n",
    "# Import MNIST data\n",
    "from tensorflow.examples.tutorials.mnist import input_data\n",
    "mnist = input_data.read_data_sets(\"MNIST_data/\", one_hot=False)\n",
    "\n",
    "x_train=mnist.train.images\n",
    "y_train=mnist.train.labels\n",
    "x_test=mnist.test.images\n",
    "y_test=mnist.test.labels\n",
    "\n",
    "print(x_train.shape)\n",
    "print(y_train.shape)\n",
    "print(x_test.shape)\n",
    "print(y_test.shape)\n",
    "img_shape=(28,28)"
   ]
  },
  {
   "cell_type": "code",
   "execution_count": 7,
   "metadata": {},
   "outputs": [
    {
     "name": "stdout",
     "output_type": "stream",
     "text": [
      "[7 3 4 6 1 8 1 0 9 8 0 3 1 2 7 0 2 9 6 0 1 6 7 1 9 7 6 5 5 8 8 3 4 4 8 7 3\n",
      " 6 4 6 6 3 8 8 9 9 4 4 0 7 8 1 0 0 1 8 5 7 1 7 5 5 9 9 4 2 5 3 7 4 6 6 0 1\n",
      " 0 1 2 4 8 5 3 5 0 0 6 4 3 8 3 7 1 4 3 9 2 2 0 3 6 6]\n"
     ]
    }
   ],
   "source": [
    "#print(x_train[2:3])\n",
    "print(y_train[:100])"
   ]
  },
  {
   "cell_type": "code",
   "execution_count": 9,
   "metadata": {},
   "outputs": [],
   "source": [
    "def plot_images(img):\n",
    "     plt.imshow(img.reshape(img_shape), cmap='binary')"
   ]
  },
  {
   "cell_type": "code",
   "execution_count": 10,
   "metadata": {},
   "outputs": [
    {
     "name": "stdout",
     "output_type": "stream",
     "text": [
      "WARNING:tensorflow:From <ipython-input-10-f25cd9f67e02>:17: calling argmax (from tensorflow.python.ops.math_ops) with dimension is deprecated and will be removed in a future version.\n",
      "Instructions for updating:\n",
      "Use the `axis` argument instead\n"
     ]
    }
   ],
   "source": [
    "# Parameters\n",
    "learning_rate = 0.01\n",
    "training_epochs = 20\n",
    "batch_size = 100\n",
    "display_step = 1\n",
    "\n",
    "# tf Graph Input\n",
    "x = tf.placeholder(tf.float32, [None, 784]) # mnist data image of shape 28*28=784\n",
    "y = tf.placeholder(tf.int64, [None]) # 0-9 digits recognition => 10 classes\n",
    "\n",
    "# Set model weights\n",
    "W = tf.Variable(tf.zeros([784, 10]))\n",
    "b = tf.Variable(tf.zeros([10]))\n",
    "\n",
    "logits = tf.matmul(x, W) + b\n",
    "\n",
    "y_pred = tf.argmax(tf.nn.softmax(logits), dimension=1)\n",
    "\n",
    "cost = tf.reduce_mean(tf.nn.sparse_softmax_cross_entropy_with_logits(logits=logits, labels=y))\n",
    "\n",
    "optimizer = tf.train.GradientDescentOptimizer(learning_rate).minimize(cost)\n",
    "\n",
    "correct_prediction = tf.equal(y_pred, y)\n",
    "  \n",
    "accuracy = tf.reduce_mean(tf.cast(correct_prediction, \"float\"))\n",
    "\n",
    "init = tf.global_variables_initializer()"
   ]
  },
  {
   "cell_type": "code",
   "execution_count": 11,
   "metadata": {},
   "outputs": [
    {
     "name": "stdout",
     "output_type": "stream",
     "text": [
      "Epoch: 1 training accuracy= 0.845\n",
      "Epoch: 2 training accuracy= 0.868333\n",
      "Epoch: 3 training accuracy= 0.876667\n",
      "Epoch: 4 training accuracy= 0.886333\n",
      "Epoch: 5 training accuracy= 0.889\n",
      "Epoch: 6 training accuracy= 0.893333\n",
      "Epoch: 7 training accuracy= 0.896\n",
      "Epoch: 8 training accuracy= 0.899\n",
      "Epoch: 9 training accuracy= 0.9\n",
      "Epoch: 10 training accuracy= 0.904\n",
      "Epoch: 11 training accuracy= 0.904333\n",
      "Epoch: 12 training accuracy= 0.905333\n",
      "Epoch: 13 training accuracy= 0.906\n",
      "Epoch: 14 training accuracy= 0.909333\n",
      "Epoch: 15 training accuracy= 0.909667\n",
      "Epoch: 16 training accuracy= 0.909\n",
      "Epoch: 17 training accuracy= 0.910333\n",
      "Epoch: 18 training accuracy= 0.910667\n",
      "Epoch: 19 training accuracy= 0.911667\n",
      "Epoch: 20 training accuracy= 0.912333\n",
      "Optimization Finished!\n",
      "Accuracy: 0.886\n"
     ]
    }
   ],
   "source": [
    "# Launch the graph\n",
    "sess=tf.Session()\n",
    "\n",
    "sess.run(init)\n",
    "\n",
    "# Training cycle\n",
    "for epoch in range(training_epochs):\n",
    "    avg_cost = 0.\n",
    "    total_batch = int(mnist.train.num_examples/batch_size)\n",
    "    # Loop over all batches\n",
    "    for i in range(total_batch):\n",
    "        batch_xs, batch_ys = mnist.train.next_batch(batch_size)\n",
    "        # Fit training using batch data\n",
    "        sess.run(optimizer, feed_dict={x: batch_xs,y: batch_ys})\n",
    "        acc_train = sess.run(accuracy,feed_dict={x: x_train[:3000], y: y_train[:3000]})\n",
    "        # Display logs per epoch step\n",
    "    print(\"Epoch:\",epoch+1, \"training accuracy=\",acc_train)\n",
    "\n",
    "print(\"Optimization Finished!\")\n",
    "\n",
    "acc_test=sess.run(accuracy,feed_dict={x: x_test[:3000], y: y_test[:3000]})\n",
    "print (\"Accuracy:\", acc_test)"
   ]
  },
  {
   "cell_type": "code",
   "execution_count": 19,
   "metadata": {},
   "outputs": [
    {
     "name": "stdout",
     "output_type": "stream",
     "text": [
      "[4]\n",
      "[4]\n"
     ]
    },
    {
     "data": {
      "image/png": "[encoded data removed]",
      "text/plain": [
       "<matplotlib.figure.Figure at 0x7fba9c84d400>"
      ]
     },
     "metadata": {},
     "output_type": "display_data"
    }
   ],
   "source": [
    "test_list=x_test[6:7]\n",
    "plot_images(test_list)\n",
    "pred=sess.run(y_pred,feed_dict={x: test_list})\n",
    "print(pred)\n",
    "print(y_test[6:7])"
   ]
  },
  {
   "cell_type": "code",
   "execution_count": null,
   "metadata": {
    "collapsed": true
   },
   "outputs": [],
   "source": []
  }
 ],
 "metadata": {
  "kernelspec": {
   "display_name": "Python 3",
   "language": "python",
   "name": "python3"
  },
  "language_info": {
   "codemirror_mode": {
    "name": "ipython",
    "version": 3
   },
   "file_extension": ".py",
   "mimetype": "text/x-python",
   "name": "python",
   "nbconvert_exporter": "python",
   "pygments_lexer": "ipython3",
   "version": "3.5.2"
  }
 },
 "nbformat": 4,
 "nbformat_minor": 2
}
