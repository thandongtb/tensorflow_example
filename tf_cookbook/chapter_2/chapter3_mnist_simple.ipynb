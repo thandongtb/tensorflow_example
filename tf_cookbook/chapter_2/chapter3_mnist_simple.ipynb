{
 "cells": [
  {
   "cell_type": "code",
   "execution_count": 1,
   "metadata": {},
   "outputs": [
    {
     "name": "stdout",
     "output_type": "stream",
     "text": [
      "Extracting data/train-images-idx3-ubyte.gz\n",
      "Extracting data/train-labels-idx1-ubyte.gz\n",
      "Extracting data/t10k-images-idx3-ubyte.gz\n",
      "Extracting data/t10k-labels-idx1-ubyte.gz\n",
      "[7 3 4 6 1 8 1 0 9 8]\n",
      "(55000, 784)\n"
     ]
    }
   ],
   "source": [
    "import tensorflow as tf\n",
    "\n",
    "from tensorflow.examples.tutorials.mnist import input_data\n",
    "\n",
    "mnist = input_data.read_data_sets(\"data/\",one_hot=False)\n",
    "x_train = mnist.train.images\n",
    "x_test = mnist.test.images\n",
    "y_train = mnist.train.labels.astype(\"int\")\n",
    "y_test = mnist.test.labels.astype(\"int\")\n",
    "\n",
    "print(y_train[:10])\n",
    "\n",
    "print(x_train.shape)"
   ]
  },
  {
   "cell_type": "code",
   "execution_count": 2,
   "metadata": {},
   "outputs": [],
   "source": [
    "n_inputs = 28*28  # MNIST\n",
    "n_hidden1 = 500\n",
    "\n",
    "n_outputs = 10\n",
    "learning_rate = 0.01\n",
    "\n",
    "tf.reset_default_graph()\n",
    "\n",
    "x = tf.placeholder(tf.float32, shape=(None, n_inputs), name=\"x\")\n",
    "y = tf.placeholder(tf.int32, shape=(None), name=\"y\")\n",
    "\n",
    "\n",
    "# Store layers weight & bias\n",
    "weights = {\n",
    "    'h1': tf.Variable(tf.random_normal([n_inputs, n_hidden1])),\n",
    "    'h2': tf.Variable(tf.random_normal([n_hidden1, n_hidden1])),\n",
    "    'out': tf.Variable(tf.random_normal([n_hidden1, n_outputs]))\n",
    "}\n",
    "biases = {\n",
    "    'b1': tf.Variable(tf.random_normal([n_hidden1])),\n",
    "    'out': tf.Variable(tf.random_normal([n_outputs]))\n",
    "}\n",
    "\n",
    "\n",
    "# Create model\n",
    "def neural_net(x):\n",
    "    layer_1 = tf.sigmoid(tf.add(tf.matmul(x, weights['h1']), biases['b1']))\n",
    "    layer_2 = tf.sigmoid(tf.add(tf.matmul(layer_1, weights['h2']), biases['b1']))\n",
    "    out_layer = tf.add(tf.matmul(layer_2, weights['out']),biases['out'])\n",
    "    return out_layer\n",
    "\n",
    "logits=neural_net(x)\n",
    "\n",
    "xentropy = tf.nn.sparse_softmax_cross_entropy_with_logits(labels=y, logits=logits)\n",
    "loss = tf.reduce_mean(xentropy, name=\"loss\")\n",
    "\n",
    "optimizer = tf.train.GradientDescentOptimizer(learning_rate)\n",
    "training_op = optimizer.minimize(loss)\n",
    "\n",
    "correct = tf.nn.in_top_k(logits, y, 1)\n",
    "accuracy = tf.reduce_mean(tf.cast(correct, tf.float32))\n",
    "\n",
    "y_pred=tf.argmax(tf.nn.softmax(logits),1)\n",
    "init = tf.global_variables_initializer()"
   ]
  },
  {
   "cell_type": "code",
   "execution_count": 3,
   "metadata": {},
   "outputs": [
    {
     "name": "stdout",
     "output_type": "stream",
     "text": [
      "[[-1.9490782  -0.09050789 -1.028579   ...,  0.16367616  0.20320557\n",
      "  -0.37227884]\n",
      " [ 1.48119473  0.05844649 -0.01930961 ..., -0.77872777  0.89223772\n",
      "  -0.77869785]\n",
      " [-0.23355654 -1.43598664  0.63015658 ..., -0.3187179   0.06657539\n",
      "   1.24643338]\n",
      " ..., \n",
      " [ 0.77279347  1.60306108  0.76055354 ..., -2.53107047  0.90506959\n",
      "  -0.1515445 ]\n",
      " [ 1.01379538  0.56812149 -1.15420663 ..., -1.0554775  -1.12567139\n",
      "   1.22673225]\n",
      " [ 1.01276183 -0.77486658  0.78975958 ...,  0.05539242  2.48688769\n",
      "  -0.64421326]]\n",
      "[[ 1.72961032  0.23522188 -0.42115936 ..., -0.37156811 -0.29385343\n",
      "   1.03912592]\n",
      " [ 0.57877147 -0.13703623  0.60205412 ..., -1.19744563 -1.3690815\n",
      "  -0.5749433 ]\n",
      " [ 0.07238838  0.61237812 -0.11987276 ..., -1.95239174 -1.33797681\n",
      "   1.32151687]\n",
      " ..., \n",
      " [-0.55787563  1.04106724  0.71556073 ..., -1.52708459 -0.77064079\n",
      "   0.78119123]\n",
      " [ 0.03722174  0.24532999  0.03423243 ..., -0.68687952  0.4178305\n",
      "   0.29192299]\n",
      " [ 1.11446106  2.02910709 -2.42288923 ...,  0.02859091  0.9048233\n",
      "  -0.22888698]]\n",
      "0 Train accuracy: 0.64 Test accuracy: 0.6202\n",
      "1 Train accuracy: 0.72 Test accuracy: 0.7124\n",
      "2 Train accuracy: 0.8 Test accuracy: 0.7515\n",
      "3 Train accuracy: 0.78 Test accuracy: 0.7776\n",
      "4 Train accuracy: 0.86 Test accuracy: 0.7928\n",
      "5 Train accuracy: 0.86 Test accuracy: 0.8051\n",
      "6 Train accuracy: 0.86 Test accuracy: 0.8164\n",
      "7 Train accuracy: 0.86 Test accuracy: 0.8225\n",
      "8 Train accuracy: 0.88 Test accuracy: 0.8301\n",
      "9 Train accuracy: 0.86 Test accuracy: 0.8363\n"
     ]
    }
   ],
   "source": [
    "session = tf.Session()\n",
    "session.run(init)\n",
    "\n",
    "print(session.run(weights['h1']))\n",
    "print(session.run(weights['out']))\n",
    "\n",
    "saver = tf.train.Saver()\n",
    "\n",
    "n_epochs = 10\n",
    "batch_size = 50\n",
    "\n",
    "for epoch in range(n_epochs):\n",
    "    for iteration in range(mnist.train.num_examples // batch_size):\n",
    "        X_batch, y_batch = mnist.train.next_batch(batch_size)\n",
    "        session.run(training_op, feed_dict={x: X_batch, y: y_batch})\n",
    "    acc_train = session.run(accuracy,feed_dict={x: X_batch, y: y_batch})\n",
    "    acc_test = session.run(accuracy,feed_dict={x: x_test, y: y_test})\n",
    "    print(epoch, \"Train accuracy:\", acc_train, \"Test accuracy:\", acc_test)\n",
    "    #print(session.run(weights['out']))\n",
    "save_path = saver.save(session, \"models/ann_final.ckpt\")"
   ]
  },
  {
   "cell_type": "code",
   "execution_count": 4,
   "metadata": {},
   "outputs": [
    {
     "name": "stdout",
     "output_type": "stream",
     "text": [
      "[[-1.9490782  -0.09050789 -1.028579   ...,  0.16367616  0.20320557\n",
      "  -0.37227884]\n",
      " [ 1.48119473  0.05844649 -0.01930961 ..., -0.77872777  0.89223772\n",
      "  -0.77869785]\n",
      " [-0.23355654 -1.43598664  0.63015658 ..., -0.3187179   0.06657539\n",
      "   1.24643338]\n",
      " ..., \n",
      " [ 0.77279347  1.60306108  0.76055354 ..., -2.53107047  0.90506959\n",
      "  -0.1515445 ]\n",
      " [ 1.01379538  0.56812149 -1.15420663 ..., -1.0554775  -1.12567139\n",
      "   1.22673225]\n",
      " [ 1.01276183 -0.77486658  0.78975958 ...,  0.05539242  2.48688769\n",
      "  -0.64421326]]\n",
      "[[ 1.69077575  0.16812265 -0.41947716 ..., -0.4824678  -0.29664937\n",
      "   1.00962043]\n",
      " [ 0.49844807 -0.13013525  0.80676562 ..., -1.426373   -1.22138536\n",
      "  -0.94535005]\n",
      " [ 0.0289442   0.5662353  -0.07758452 ..., -1.90112197 -1.26389396\n",
      "   1.14746368]\n",
      " ..., \n",
      " [-0.69861138  1.10174155  0.64326829 ..., -1.4441855  -0.72143114\n",
      "   0.81032687]\n",
      " [-0.03765244  0.28603664  0.06127573 ..., -0.7359603   0.45386949\n",
      "   0.28063753]\n",
      " [ 1.1237359   1.89784157 -2.31090283 ..., -0.11346177  0.83574325\n",
      "  -0.31824163]]\n"
     ]
    }
   ],
   "source": [
    "print(session.run(weights['h1']))\n",
    "print(session.run(weights['out']))\n"
   ]
  },
  {
   "cell_type": "code",
   "execution_count": 5,
   "metadata": {},
   "outputs": [
    {
     "data": {
      "image/png": "[encoded data removed]",
      "text/plain": [
       "<matplotlib.figure.Figure at 0x7f1ad392e860>"
      ]
     },
     "metadata": {},
     "output_type": "display_data"
    },
    {
     "name": "stdout",
     "output_type": "stream",
     "text": [
      "[4]\n",
      "[7 2 1 0 4 1 4 9 6 9 0 8 9 0 1 5 9 7 3 4 9 6 4 5 4 0 7 4 0 1 3 1 3 6 7 2 7\n",
      " 1 6 1 1 7 4 8 2 5 3 2 4 4 6 3 5 5 6 0 4 1 9 7 7 8 2 3 7 4 3 4 3 0 7 0 3 7\n",
      " 1 7 3 2 9 7 9 6 2 7 8 4 7 5 6 1 3 6 9 3 1 4 1 3 6 9]\n",
      "[7 2 1 0 4 1 4 9 5 9 0 6 9 0 1 5 9 7 3 4 9 6 6 5 4 0 7 4 0 1 3 1 3 4 7 2 7\n",
      " 1 2 1 1 7 4 2 3 5 1 2 4 4 6 3 5 5 6 0 4 1 9 5 7 8 9 3 7 4 6 4 3 0 7 0 2 9\n",
      " 1 7 3 2 9 7 7 6 2 7 8 4 7 3 6 1 3 6 9 3 1 4 1 7 6 9]\n"
     ]
    }
   ],
   "source": [
    "import matplotlib.pyplot as plt\n",
    "\n",
    "xt=x_test[4:5]\n",
    "plt.imshow(xt.reshape((28,28)), cmap='binary')\n",
    "plt.show()\n",
    "print(y_test[4:5])\n",
    "\n",
    "#print(xt.shape)\n",
    "\n",
    "xt=x_test[:100]\n",
    "yt=session.run(y_pred,feed_dict={x: xt})\n",
    "print(yt)\n",
    "\n",
    "print(y_test[:100])"
   ]
  }
 ],
 "metadata": {
  "kernelspec": {
   "display_name": "Python 3",
   "language": "python",
   "name": "python3"
  },
  "language_info": {
   "codemirror_mode": {
    "name": "ipython",
    "version": 3
   },
   "file_extension": ".py",
   "mimetype": "text/x-python",
   "name": "python",
   "nbconvert_exporter": "python",
   "pygments_lexer": "ipython3",
   "version": "3.5.2"
  }
 },
 "nbformat": 4,
 "nbformat_minor": 2
}
