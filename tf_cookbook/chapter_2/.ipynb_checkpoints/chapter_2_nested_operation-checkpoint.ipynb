{
 "cells": [
  {
   "cell_type": "code",
   "execution_count": 3,
   "metadata": {},
   "outputs": [],
   "source": [
    "import tensorflow as tf\n",
    "import numpy as np\n",
    "sess = tf.Session()"
   ]
  },
  {
   "cell_type": "code",
   "execution_count": 4,
   "metadata": {},
   "outputs": [
    {
     "name": "stdout",
     "output_type": "stream",
     "text": [
      "[[ 2.04597497  1.44254148  2.92116022  3.676862    2.33472252]\n",
      " [-0.21525502  2.84349418  2.62184191  3.31012487  1.94707406]\n",
      " [ 3.3427248   1.44638395  2.31574273  2.51449537  2.30363512]]\n"
     ]
    }
   ],
   "source": [
    "my_array = tf.random_normal(shape=[3, 5], mean=2, stddev=1)\n",
    "print(sess.run(my_array))"
   ]
  },
  {
   "cell_type": "code",
   "execution_count": 5,
   "metadata": {},
   "outputs": [],
   "source": [
    "x_data = tf.placeholder(tf.float32, shape=[3, 5])"
   ]
  },
  {
   "cell_type": "code",
   "execution_count": 6,
   "metadata": {},
   "outputs": [
    {
     "name": "stdout",
     "output_type": "stream",
     "text": [
      "[[ 0.05992687  0.55952179  0.61572838]\n",
      " [ 0.52536595  0.04273355  0.95252645]\n",
      " [ 0.43565226  0.29162061  0.84133887]\n",
      " [ 0.5674876   0.98461723  0.73651326]\n",
      " [ 0.01005709  0.6816231   0.87034023]]\n"
     ]
    }
   ],
   "source": [
    "m1 = tf.random_uniform(shape=[5, 3], minval=0, maxval=1)\n",
    "print(sess.run(m1))"
   ]
  },
  {
   "cell_type": "code",
   "execution_count": 7,
   "metadata": {},
   "outputs": [
    {
     "name": "stdout",
     "output_type": "stream",
     "text": [
      "[[ 5.08637047  5.97422409  4.61917925]\n",
      " [ 1.45181775  3.15214014  3.57450128]\n",
      " [ 5.96344423  7.20639229  4.79626465]]\n"
     ]
    }
   ],
   "source": [
    "m2 = tf.matmul(my_array, m1)\n",
    "print(sess.run(m2))"
   ]
  },
  {
   "cell_type": "code",
   "execution_count": 8,
   "metadata": {},
   "outputs": [
    {
     "name": "stdout",
     "output_type": "stream",
     "text": [
      "[[  6.26401091   5.92415524   7.53692293]\n",
      " [  7.21647215   6.87042093  10.56310081]\n",
      " [  5.77839565   5.67228127   8.1897831 ]]\n"
     ]
    }
   ],
   "source": [
    "add1 = tf.add(m2, [1])\n",
    "print(sess.run(add1))"
   ]
  },
  {
   "cell_type": "code",
   "execution_count": null,
   "metadata": {},
   "outputs": [],
   "source": []
  }
 ],
 "metadata": {
  "kernelspec": {
   "display_name": "Python 3",
   "language": "python",
   "name": "python3"
  },
  "language_info": {
   "codemirror_mode": {
    "name": "ipython",
    "version": 3
   },
   "file_extension": ".py",
   "mimetype": "text/x-python",
   "name": "python",
   "nbconvert_exporter": "python",
   "pygments_lexer": "ipython3",
   "version": "3.5.2"
  }
 },
 "nbformat": 4,
 "nbformat_minor": 2
}
