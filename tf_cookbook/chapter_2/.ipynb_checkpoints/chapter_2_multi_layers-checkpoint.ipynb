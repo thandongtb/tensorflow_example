{
 "cells": [
  {
   "cell_type": "code",
   "execution_count": 1,
   "metadata": {},
   "outputs": [],
   "source": [
    "import tensorflow as tf\n",
    "import numpy as np\n",
    "\n",
    "sess = tf.Session()"
   ]
  },
  {
   "cell_type": "code",
   "execution_count": 3,
   "metadata": {},
   "outputs": [],
   "source": [
    "x_shape = [1, 4, 4, 1]\n",
    "x_val = np.random.uniform(size=x_shape)"
   ]
  },
  {
   "cell_type": "code",
   "execution_count": 5,
   "metadata": {},
   "outputs": [],
   "source": [
    "x_data = tf.placeholder(tf.float32, shape=x_shape)"
   ]
  },
  {
   "cell_type": "code",
   "execution_count": 9,
   "metadata": {},
   "outputs": [
    {
     "name": "stdout",
     "output_type": "stream",
     "text": [
      "(1, 4, 4, 1)\n"
     ]
    }
   ],
   "source": [
    "print(x_val.shape)"
   ]
  },
  {
   "cell_type": "code",
   "execution_count": 8,
   "metadata": {},
   "outputs": [
    {
     "name": "stdout",
     "output_type": "stream",
     "text": [
      "[[[[ 0.25090896]\n",
      "   [ 0.13133066]\n",
      "   [ 0.5548951 ]\n",
      "   [ 0.03543313]]\n",
      "\n",
      "  [[ 0.0776131 ]\n",
      "   [ 0.68297153]\n",
      "   [ 0.66192017]\n",
      "   [ 0.76731463]]\n",
      "\n",
      "  [[ 0.18942319]\n",
      "   [ 0.11247973]\n",
      "   [ 0.20740246]\n",
      "   [ 0.32259955]]\n",
      "\n",
      "  [[ 0.38538169]\n",
      "   [ 0.81473545]\n",
      "   [ 0.55720771]\n",
      "   [ 0.28550542]]]]\n"
     ]
    }
   ],
   "source": [
    "print(sess.run(tf.convert_to_tensor(x_val)))"
   ]
  },
  {
   "cell_type": "code",
   "execution_count": null,
   "metadata": {},
   "outputs": [],
   "source": []
  }
 ],
 "metadata": {
  "kernelspec": {
   "display_name": "Python 3",
   "language": "python",
   "name": "python3"
  },
  "language_info": {
   "codemirror_mode": {
    "name": "ipython",
    "version": 3
   },
   "file_extension": ".py",
   "mimetype": "text/x-python",
   "name": "python",
   "nbconvert_exporter": "python",
   "pygments_lexer": "ipython3",
   "version": "3.5.2"
  }
 },
 "nbformat": 4,
 "nbformat_minor": 2
}
